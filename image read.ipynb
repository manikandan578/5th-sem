{
 "cells": [
  {
   "cell_type": "code",
   "execution_count": 1,
   "id": "edca1bf9-10f5-4949-b6f1-723cdcfe28a7",
   "metadata": {},
   "outputs": [
    {
     "name": "stdout",
     "output_type": "stream",
     "text": [
      "Requirement already satisfied: opencv-python in c:\\users\\aedpu\\.conda\\envs\\manikandan\\lib\\site-packages (4.10.0.84)\n",
      "Requirement already satisfied: numpy>=1.17.0 in c:\\users\\aedpu\\.conda\\envs\\manikandan\\lib\\site-packages (from opencv-python) (2.0.1)\n",
      "Note: you may need to restart the kernel to use updated packages.\n"
     ]
    }
   ],
   "source": [
    "pip install opencv-python"
   ]
  },
  {
   "cell_type": "raw",
   "id": "54ba5403-1dd7-4084-b567-a627e5251c66",
   "metadata": {},
   "source": [
    "check the version"
   ]
  },
  {
   "cell_type": "code",
   "execution_count": 2,
   "id": "d1737d11-4d8d-4c17-b367-a6e6795df91c",
   "metadata": {},
   "outputs": [],
   "source": [
    "import numpy as np"
   ]
  },
  {
   "cell_type": "code",
   "execution_count": 3,
   "id": "b2bc4152-7fce-4b8b-801b-5481f2d8d63e",
   "metadata": {},
   "outputs": [
    {
     "data": {
      "text/plain": [
       "'2.0.1'"
      ]
     },
     "execution_count": 3,
     "metadata": {},
     "output_type": "execute_result"
    }
   ],
   "source": [
    "np.__version__"
   ]
  },
  {
   "cell_type": "code",
   "execution_count": 4,
   "id": "e9c9ee5b-bfb2-428d-89ea-5debf93f6543",
   "metadata": {},
   "outputs": [
    {
     "name": "stdout",
     "output_type": "stream",
     "text": [
      "Requirement already satisfied: opencv-python in c:\\users\\aedpu\\.conda\\envs\\manikandan\\lib\\site-packages (4.10.0.84)\n",
      "Requirement already satisfied: numpy>=1.17.0 in c:\\users\\aedpu\\.conda\\envs\\manikandan\\lib\\site-packages (from opencv-python) (2.0.1)\n",
      "Note: you may need to restart the kernel to use updated packages.\n"
     ]
    }
   ],
   "source": [
    "pip install --upgrade -- opencv-python"
   ]
  },
  {
   "cell_type": "code",
   "execution_count": 5,
   "id": "ca116b9f-9a7a-4333-9167-6a8382da5e27",
   "metadata": {
    "scrolled": true
   },
   "outputs": [
    {
     "name": "stdout",
     "output_type": "stream",
     "text": [
      "Requirement already satisfied: numpy in c:\\users\\aedpu\\.conda\\envs\\manikandan\\lib\\site-packages (2.0.1)\n",
      "Note: you may need to restart the kernel to use updated packages.\n"
     ]
    }
   ],
   "source": [
    "pip install --upgrade numpy"
   ]
  },
  {
   "cell_type": "code",
   "execution_count": 6,
   "id": "aab0bdde-1f3f-4403-aa03-7648ee67e067",
   "metadata": {
    "scrolled": true
   },
   "outputs": [],
   "source": [
    "import cv2"
   ]
  },
  {
   "cell_type": "code",
   "execution_count": 21,
   "id": "1f118474-bba3-4d49-b9da-1495585c5abb",
   "metadata": {},
   "outputs": [],
   "source": [
    "img =cv2.imread(\"C:\\\\Users\\\\aedpu\\\\OneDrive\\\\Pictures\\\\download (1).jpeg\")"
   ]
  },
  {
   "cell_type": "code",
   "execution_count": 8,
   "id": "7da11d91-2cc9-40be-8848-55bdcd69a305",
   "metadata": {
    "scrolled": true
   },
   "outputs": [
    {
     "name": "stdout",
     "output_type": "stream",
     "text": [
      "[[[32 30 36]\n",
      "  [32 30 36]\n",
      "  [32 30 36]\n",
      "  ...\n",
      "  [18 17 19]\n",
      "  [18 17 19]\n",
      "  [18 17 19]]\n",
      "\n",
      " [[32 30 36]\n",
      "  [32 30 36]\n",
      "  [32 30 36]\n",
      "  ...\n",
      "  [18 17 19]\n",
      "  [18 17 19]\n",
      "  [18 17 19]]\n",
      "\n",
      " [[32 30 36]\n",
      "  [32 30 36]\n",
      "  [32 30 36]\n",
      "  ...\n",
      "  [18 17 19]\n",
      "  [18 17 19]\n",
      "  [18 17 19]]\n",
      "\n",
      " ...\n",
      "\n",
      " [[ 0  0  0]\n",
      "  [ 0  0  0]\n",
      "  [ 1  1  1]\n",
      "  ...\n",
      "  [ 0  0  0]\n",
      "  [22 22 22]\n",
      "  [ 0  0  0]]\n",
      "\n",
      " [[ 0  0  0]\n",
      "  [ 8  8  8]\n",
      "  [ 9  9  9]\n",
      "  ...\n",
      "  [ 0  0  0]\n",
      "  [ 0  0  0]\n",
      "  [ 8  8  8]]\n",
      "\n",
      " [[ 0  0  0]\n",
      "  [ 0  0  0]\n",
      "  [ 0  0  0]\n",
      "  ...\n",
      "  [ 0  0  0]\n",
      "  [ 0  0  0]\n",
      "  [ 0  0  0]]]\n"
     ]
    }
   ],
   "source": [
    "print(img)"
   ]
  },
  {
   "cell_type": "code",
   "execution_count": null,
   "id": "39a7c610-4ae4-4b33-9544-5a02da3f4420",
   "metadata": {
    "scrolled": true
   },
   "outputs": [],
   "source": [
    "cv2.imshow(\"captain\" ,img)\n",
    "cv2.waitKey(0)\n",
    "cv2.destroyAllwindows()"
   ]
  },
  {
   "cell_type": "code",
   "execution_count": 9,
   "id": "6f3708a0-b199-4890-b6da-c4cfd25e8c9e",
   "metadata": {},
   "outputs": [],
   "source": [
    "g =cv2.imread(\"C:\\\\Users\\\\aedpu\\\\OneDrive\\\\Pictures\\\\download (1).jpeg\",0)"
   ]
  },
  {
   "cell_type": "code",
   "execution_count": 10,
   "id": "8cbaf151-dc29-4000-bb41-00bd8372a938",
   "metadata": {},
   "outputs": [
    {
     "data": {
      "text/plain": [
       "array([[32, 32, 32, ..., 18, 18, 18],\n",
       "       [32, 32, 32, ..., 18, 18, 18],\n",
       "       [32, 32, 32, ..., 18, 18, 18],\n",
       "       ...,\n",
       "       [ 0,  0,  1, ...,  0, 22,  0],\n",
       "       [ 0,  8,  9, ...,  0,  0,  8],\n",
       "       [ 0,  0,  0, ...,  0,  0,  0]], dtype=uint8)"
      ]
     },
     "execution_count": 10,
     "metadata": {},
     "output_type": "execute_result"
    }
   ],
   "source": [
    "g"
   ]
  },
  {
   "cell_type": "code",
   "execution_count": 11,
   "id": "b4d92774-1d97-4c3b-9aa9-936a7e8f3d03",
   "metadata": {},
   "outputs": [
    {
     "ename": "AttributeError",
     "evalue": "module 'cv2' has no attribute 'destroyAllwindows'",
     "output_type": "error",
     "traceback": [
      "\u001b[1;31m---------------------------------------------------------------------------\u001b[0m",
      "\u001b[1;31mAttributeError\u001b[0m                            Traceback (most recent call last)",
      "Cell \u001b[1;32mIn[11], line 3\u001b[0m\n\u001b[0;32m      1\u001b[0m cv2\u001b[38;5;241m.\u001b[39mimshow(\u001b[38;5;124m\"\u001b[39m\u001b[38;5;124mcaptain\u001b[39m\u001b[38;5;124m\"\u001b[39m ,g)\n\u001b[0;32m      2\u001b[0m cv2\u001b[38;5;241m.\u001b[39mwaitKey(\u001b[38;5;241m0\u001b[39m)\n\u001b[1;32m----> 3\u001b[0m \u001b[43mcv2\u001b[49m\u001b[38;5;241;43m.\u001b[39;49m\u001b[43mdestroyAllwindows\u001b[49m()\n",
      "\u001b[1;31mAttributeError\u001b[0m: module 'cv2' has no attribute 'destroyAllwindows'"
     ]
    }
   ],
   "source": [
    "cv2.imshow(\"captain\" ,g)\n",
    "cv2.waitKey(0)\n",
    "cv2.destroyAllwindows()"
   ]
  },
  {
   "cell_type": "code",
   "execution_count": 12,
   "id": "7e6cc4c8-233e-4a71-91a2-a6c65975c65c",
   "metadata": {},
   "outputs": [
    {
     "data": {
      "text/plain": [
       "True"
      ]
     },
     "execution_count": 12,
     "metadata": {},
     "output_type": "execute_result"
    }
   ],
   "source": [
    "cv2.imwrite('saveimage.png', img)"
   ]
  },
  {
   "cell_type": "code",
   "execution_count": 14,
   "id": "e23ace55-7cbb-4d10-8dc0-2cfe70f51575",
   "metadata": {},
   "outputs": [],
   "source": [
    "#color spacing"
   ]
  },
  {
   "cell_type": "code",
   "execution_count": null,
   "id": "8ff67ddb-b62c-42c2-8d2b-1c118cfcfe4d",
   "metadata": {},
   "outputs": [],
   "source": [
    "#color spacing change"
   ]
  },
  {
   "cell_type": "code",
   "execution_count": 15,
   "id": "742ec0ec-e509-4ff2-8568-ead16db2e1cb",
   "metadata": {},
   "outputs": [],
   "source": [
    "colors_avl=[i for i in dir(cv2) if i.startswith(\"COLOR_BGR\")]"
   ]
  },
  {
   "cell_type": "code",
   "execution_count": 17,
   "id": "84029abe-873e-49b5-9e33-614f417af852",
   "metadata": {},
   "outputs": [
    {
     "name": "stdout",
     "output_type": "stream",
     "text": [
      "['COLOR_BGR2BGR555', 'COLOR_BGR2BGR565', 'COLOR_BGR2BGRA', 'COLOR_BGR2GRAY', 'COLOR_BGR2HLS', 'COLOR_BGR2HLS_FULL', 'COLOR_BGR2HSV', 'COLOR_BGR2HSV_FULL', 'COLOR_BGR2LAB', 'COLOR_BGR2LUV', 'COLOR_BGR2Lab', 'COLOR_BGR2Luv', 'COLOR_BGR2RGB', 'COLOR_BGR2RGBA', 'COLOR_BGR2XYZ', 'COLOR_BGR2YCR_CB', 'COLOR_BGR2YCrCb', 'COLOR_BGR2YUV', 'COLOR_BGR2YUV_I420', 'COLOR_BGR2YUV_IYUV', 'COLOR_BGR2YUV_UYNV', 'COLOR_BGR2YUV_UYVY', 'COLOR_BGR2YUV_Y422', 'COLOR_BGR2YUV_YUNV', 'COLOR_BGR2YUV_YUY2', 'COLOR_BGR2YUV_YUYV', 'COLOR_BGR2YUV_YV12', 'COLOR_BGR2YUV_YVYU', 'COLOR_BGR5552BGR', 'COLOR_BGR5552BGRA', 'COLOR_BGR5552GRAY', 'COLOR_BGR5552RGB', 'COLOR_BGR5552RGBA', 'COLOR_BGR5652BGR', 'COLOR_BGR5652BGRA', 'COLOR_BGR5652GRAY', 'COLOR_BGR5652RGB', 'COLOR_BGR5652RGBA', 'COLOR_BGRA2BGR', 'COLOR_BGRA2BGR555', 'COLOR_BGRA2BGR565', 'COLOR_BGRA2GRAY', 'COLOR_BGRA2RGB', 'COLOR_BGRA2RGBA', 'COLOR_BGRA2YUV_I420', 'COLOR_BGRA2YUV_IYUV', 'COLOR_BGRA2YUV_UYNV', 'COLOR_BGRA2YUV_UYVY', 'COLOR_BGRA2YUV_Y422', 'COLOR_BGRA2YUV_YUNV', 'COLOR_BGRA2YUV_YUY2', 'COLOR_BGRA2YUV_YUYV', 'COLOR_BGRA2YUV_YV12', 'COLOR_BGRA2YUV_YVYU']\n"
     ]
    }
   ],
   "source": [
    "print(colors_avl)"
   ]
  },
  {
   "cell_type": "code",
   "execution_count": 18,
   "id": "85d6b2d5-d1d0-42f4-9417-909d3173ab38",
   "metadata": {},
   "outputs": [
    {
     "name": "stdout",
     "output_type": "stream",
     "text": [
      "54\n"
     ]
    }
   ],
   "source": [
    "print(len(colors_avl))"
   ]
  },
  {
   "cell_type": "code",
   "execution_count": 24,
   "id": "8078d0ba-5c77-42c4-bd14-1ae04bc02ac8",
   "metadata": {},
   "outputs": [],
   "source": [
    "gray=cv2.cvtColor(img,cv2.COLOR_BGR2GRAY)\n",
    "hsv =cv2.cvtColor(img,cv2.COLOR_BGR2HSV)\n",
    "rgb =cv2.cvtColor(img,cv2.COLOR_BGR2RGB)"
   ]
  },
  {
   "cell_type": "code",
   "execution_count": null,
   "id": "fe9d028a-df14-40d7-8177-092b9af7f88a",
   "metadata": {},
   "outputs": [],
   "source": [
    "cv2.imshow(\"gray\",gray)\n",
    "cv2.imshow(\"hsv\",hsv)\n",
    "cv2.imshow(\"original\",img)\n",
    "cv2.imshow(\"rgb\",rgb)\n",
    "cv2.waitKey(0)\n",
    "cv2.destroyAllwindows()"
   ]
  },
  {
   "cell_type": "code",
   "execution_count": null,
   "id": "9a250a84-5929-4976-ad77-528477ffbd22",
   "metadata": {},
   "outputs": [],
   "source": []
  }
 ],
 "metadata": {
  "kernelspec": {
   "display_name": "Python 3 (ipykernel)",
   "language": "python",
   "name": "python3"
  },
  "language_info": {
   "codemirror_mode": {
    "name": "ipython",
    "version": 3
   },
   "file_extension": ".py",
   "mimetype": "text/x-python",
   "name": "python",
   "nbconvert_exporter": "python",
   "pygments_lexer": "ipython3",
   "version": "3.9.13"
  }
 },
 "nbformat": 4,
 "nbformat_minor": 5
}
